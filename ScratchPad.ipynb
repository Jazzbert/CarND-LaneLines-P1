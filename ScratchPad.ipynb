{
 "cells": [
  {
   "cell_type": "code",
   "execution_count": 3,
   "metadata": {
    "collapsed": false
   },
   "outputs": [
    {
     "name": "stdout",
     "output_type": "stream",
     "text": [
      "[[1, 2]]\n"
     ]
    }
   ],
   "source": [
    "import numpy as np\n",
    "a = [[1]]\n",
    "for item in a:\n",
    "    if item == [1]:\n",
    "        item.append(2)\n",
    "print (a)"
   ]
  },
  {
   "cell_type": "code",
   "execution_count": 16,
   "metadata": {
    "collapsed": false
   },
   "outputs": [
    {
     "name": "stdout",
     "output_type": "stream",
     "text": [
      "x1 sum: 512, y1 sum: 325, count: 1\n",
      "0.6228070175438597\n"
     ]
    }
   ],
   "source": [
    "group = [[512, 325, 854, 538]]\n",
    "\n",
    "print (get_avg_slope(group))\n"
   ]
  },
  {
   "cell_type": "code",
   "execution_count": 15,
   "metadata": {
    "collapsed": false
   },
   "outputs": [],
   "source": [
    "def get_avg_slope(lines):\n",
    "    count = 0\n",
    "    x1_sum = 0\n",
    "    y1_sum = 0\n",
    "    x2_sum = 0\n",
    "    y2_sum = 0\n",
    "    for x1,y1,x2,y2 in lines:\n",
    "        x1_sum += x1\n",
    "        y1_sum += y1\n",
    "        x2_sum += x2\n",
    "        y2_sum += y2\n",
    "        count += 1\n",
    "    \n",
    "    print (\"x1 sum: \" + str(x1_sum) + \", y1 sum: \" + str(y1_sum) + \", count: \"+ str(count))\n",
    "    \n",
    "    return ((y2_sum - y1_sum) / (x2_sum - x1_sum)) / count"
   ]
  },
  {
   "cell_type": "code",
   "execution_count": null,
   "metadata": {
    "collapsed": true
   },
   "outputs": [],
   "source": [
    "test = np.array[['x']]\n",
    "test2 ="
   ]
  }
 ],
 "metadata": {
  "kernelspec": {
   "display_name": "Python 3",
   "language": "python",
   "name": "python3"
  },
  "language_info": {
   "codemirror_mode": {
    "name": "ipython",
    "version": 3
   },
   "file_extension": ".py",
   "mimetype": "text/x-python",
   "name": "python",
   "nbconvert_exporter": "python",
   "pygments_lexer": "ipython3",
   "version": "3.5.2"
  },
  "widgets": {
   "state": {},
   "version": "1.1.2"
  }
 },
 "nbformat": 4,
 "nbformat_minor": 2
}
